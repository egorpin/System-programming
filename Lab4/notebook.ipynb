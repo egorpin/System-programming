{
 "cells": [
  {
   "cell_type": "code",
   "execution_count": null,
   "metadata": {
    "vscode": {
     "languageId": "plaintext"
    }
   },
   "outputs": [],
   "source": [
    "import random as rd\n",
    "\n",
    "Variant = 21\n",
    "rd.seed(Variant)\n",
    "\n",
    "Numbers_of_problems = [i+1 for i in rd.sample(range(14),3)]\n",
    "Numbers_of_problems"
   ]
  },
  {
   "cell_type": "code",
   "execution_count": null,
   "metadata": {
    "vscode": {
     "languageId": "plaintext"
    }
   },
   "outputs": [],
   "source": [
    "format ELF64\n",
    "public _start\n",
    "public exit\n",
    "\n",
    "include '/home/egorp/cpp/System-programming/help.asm'\n",
    "include '/home/egorp/cpp/System-programming/func.asm'\n",
    "\n",
    "section '.bss' writable\n",
    "    buffer rb 256\n",
    "    n dq 0\n",
    "    sum dq 0\n",
    "\n",
    "section '.text' executable\n",
    "_start:\n",
    "    mov rsi, buffer\n",
    "    call input_keyboard\n",
    "\n",
    "    call atoi\n",
    "\n",
    "    add rax, 1\n",
    "    mov [n], rax\n",
    "    mov rcx, 0\n",
    "\n",
    "    loop_start:\n",
    "        mov rax, rcx\n",
    "        mov rbx, rcx\n",
    "        inc rbx\n",
    "        imul rbx\n",
    "\n",
    "        mov rbx, rcx\n",
    "        imul rbx, 3\n",
    "        inc rbx\n",
    "        imul rbx\n",
    "\n",
    "        mov rbx, rcx\n",
    "        imul rbx, 3\n",
    "        add rbx, 2\n",
    "        imul rbx\n",
    "\n",
    "        test rcx, 1\n",
    "        jz even_k\n",
    "        mov rbx, -1\n",
    "        jmp sign_done\n",
    "    even_k:\n",
    "        mov rbx, 1\n",
    "\n",
    "    sign_done:\n",
    "        imul rbx\n",
    "\n",
    "        add [sum], rax\n",
    "\n",
    "        call print_int\n",
    "        call new_line\n",
    "\n",
    "        inc rcx\n",
    "        cmp rcx, [n]\n",
    "        jnz loop_start\n",
    "\n",
    "    mov rax, [sum]\n",
    "\n",
    "    call print_int\n",
    "    call new_line\n",
    "\n",
    "    call exit\n"
   ]
  },
  {
   "cell_type": "code",
   "execution_count": null,
   "metadata": {
    "vscode": {
     "languageId": "plaintext"
    }
   },
   "outputs": [],
   "source": [
    "#include <stdio.h>\n",
    "#include <math.h>\n",
    "\n",
    "int main() {\n",
    "    int n;\n",
    "    int sum = 0;\n",
    "\n",
    "    scanf(\"%d\", &n);\n",
    "\n",
    "    for (int k = 1; k <= n; k++) {\n",
    "        int sign = (k % 2 == 0) ? 1 : -1;\n",
    "\n",
    "        sum += sign * k * (k + 1) * (3 * k + 1) * (3 * k + 2);\n",
    "    }\n",
    "\n",
    "    printf(\"%d\\n\", sum);\n",
    "\n",
    "    return 0;\n",
    "}\n"
   ]
  },
  {
   "attachments": {
    "image.png": {
     "image/png": "[encoded data removed]"
    }
   },
   "cell_type": "markdown",
   "metadata": {},
   "source": [
    "![image.png](attachment:image.png)"
   ]
  },
  {
   "cell_type": "markdown",
   "metadata": {},
   "source": [
    "format ELF64\n",
    "public _start\n",
    "public exit\n",
    "\n",
    "include '/home/egorp/cpp/System-programming/help.asm'\n",
    "include '/home/egorp/cpp/System-programming/func.asm'\n",
    "\n",
    "section '.bss' writable\n",
    "    buffer rb 256\n",
    "\n",
    "section '.text' executable\n",
    "_start:\n",
    "    mov rsi, buffer\n",
    "    call input_keyboard\n",
    "\n",
    "    call atoi\n",
    "\n",
    "    mov rcx, 10\n",
    "    xor rbx, rbx\n",
    "    .digit_loop:\n",
    "        xor rdx, rdx\n",
    "        div rcx\n",
    "\n",
    "        imul rbx, rbx, 10\n",
    "        add rbx, rdx\n",
    "\n",
    "        test rax, rax\n",
    "        jnz .digit_loop\n",
    "\n",
    "    mov rax, rbx\n",
    "\n",
    "    call print_int\n",
    "    call new_line\n",
    "\n",
    "    call exit\n"
   ]
  },
  {
   "cell_type": "code",
   "execution_count": null,
   "metadata": {
    "vscode": {
     "languageId": "plaintext"
    }
   },
   "outputs": [],
   "source": [
    "#include <stdio.h>\n",
    "#include <math.h>\n",
    "\n",
    "int main() {\n",
    "    int n;\n",
    "\n",
    "    int result = 0;\n",
    "\n",
    "    scanf(\"%d\", &n);\n",
    "\n",
    "    while (n > 0){\n",
    "        result *= 10;\n",
    "        result += n % 10;\n",
    "        n /= 10;\n",
    "    }\n",
    "\n",
    "    printf(\"%d\\n\", result);\n",
    "\n",
    "    return 0;\n",
    "}\n"
   ]
  },
  {
   "attachments": {
    "image.png": {
     "image/png": "[encoded data removed]"
    }
   },
   "cell_type": "markdown",
   "metadata": {},
   "source": [
    "![image.png](attachment:image.png)"
   ]
  },
  {
   "cell_type": "code",
   "execution_count": null,
   "metadata": {
    "vscode": {
     "languageId": "plaintext"
    }
   },
   "outputs": [],
   "source": [
    "format ELF64\n",
    "public _start\n",
    "\n",
    "include '/home/egorp/cpp/System-programming/help.asm'\n",
    "include '/home/egorp/cpp/System-programming/func.asm'\n",
    "\n",
    "section '.data' writable\n",
    "    truemsg db 'Number is in non-decreasing order', 10, 0\n",
    "    falsemsg db 'Number is not in non-decreasing order', 10, 0\n",
    "\n",
    "section '.bss' writable\n",
    "    buffer rb 256\n",
    "    prev dq 0\n",
    "\n",
    "section '.text' executable\n",
    "_start:\n",
    "    mov rsi, buffer\n",
    "    call input_keyboard\n",
    "\n",
    "    call atoi\n",
    "\n",
    "    mov rcx, 10\n",
    "    xor rdx, rdx\n",
    "    div rcx\n",
    "    mov [prev], rdx\n",
    "\n",
    "    .digit_loop:\n",
    "        xor rdx, rdx\n",
    "        div rcx\n",
    "\n",
    "        cmp rdx, [prev]\n",
    "        jg false\n",
    "\n",
    "        mov [prev], rdx\n",
    "\n",
    "        test rax, rax\n",
    "        jnz .digit_loop\n",
    "    mov rsi, truemsg\n",
    "    jmp final\n",
    "\n",
    "    false:\n",
    "        mov rsi, falsemsg\n",
    "\n",
    "\n",
    "    final:\n",
    "        call print_str\n",
    "        call exit\n"
   ]
  },
  {
   "cell_type": "code",
   "execution_count": null,
   "metadata": {
    "vscode": {
     "languageId": "plaintext"
    }
   },
   "outputs": [],
   "source": [
    "#include <stdio.h>\n",
    "#include <math.h>\n",
    "\n",
    "int main() {\n",
    "    int n;\n",
    "\n",
    "    int result = 0;\n",
    "\n",
    "    scanf(\"%d\", &n);\n",
    "\n",
    "    int prev = n % 10;\n",
    "\n",
    "    while (n > 0){\n",
    "        n /= 10;\n",
    "\n",
    "        if (n % 10 > prev){\n",
    "            printf(\"Цифры не в неубывающем порядке\\n\");\n",
    "            return 0;\n",
    "        }\n",
    "        prev = n % 10;\n",
    "    }\n",
    "\n",
    "    printf(\"Цифры в неубывающем порядке\\n\");\n",
    "\n",
    "    return 0;\n",
    "}\n"
   ]
  },
  {
   "attachments": {
    "image-2.png": {
     "image/png": "[encoded data removed]"
    }
   },
   "cell_type": "markdown",
   "metadata": {},
   "source": [
    "![image-2.png](attachment:image-2.png)"
   ]
  }
 ],
 "metadata": {
  "language_info": {
   "name": "python"
  }
 },
 "nbformat": 4,
 "nbformat_minor": 2
}
