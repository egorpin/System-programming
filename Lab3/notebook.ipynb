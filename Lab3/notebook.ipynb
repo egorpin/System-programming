{
 "cells": [
  {
   "cell_type": "code",
   "execution_count": null,
   "metadata": {
    "vscode": {
     "languageId": "plaintext"
    }
   },
   "outputs": [],
   "source": [
    "import random as rd\n",
    "import pandas as pd\n",
    "import math\n",
    "\n",
    "Variant = 21\n",
    "rd.seed(Variant)\n",
    "\n",
    "set_operations = ['-','+','*','/']\n",
    "set_operands = ['a', 'b', 'c']\n",
    "count_operations = rd.randint(3,5)\n",
    "\n",
    "expression = set_operands[rd.randint(0,len(set_operands)-1)]\n",
    "for i in range(count_operations):\n",
    "    current_operation = set_operations[rd.randint(0,len(set_operations)-1)]\n",
    "    current_operand = set_operands[rd.randint(0,len(set_operand)-1)]\n",
    "    expression = \"(\" + expression + current_operation + current_operand + \")\"\n",
    "expression"
   ]
  },
  {
   "cell_type": "code",
   "execution_count": null,
   "metadata": {
    "vscode": {
     "languageId": "plaintext"
    }
   },
   "outputs": [],
   "source": [
    "format ELF64\n",
    "public _start\n",
    "public exit\n",
    "\n",
    "section '.bss' writable\n",
    "    newline db 10\n",
    "    place db 1\n",
    "\n",
    "section '.text' executable\n",
    "_start:\n",
    "    add rsp, 16\n",
    "    xor rsi, rsi\n",
    "    pop rsi\n",
    "    mov byte al, [rsi]\n",
    "\n",
    "    call print\n",
    "\n",
    "    mov rax, 1\n",
    "    mov rdi, 1\n",
    "    mov rsi, newline\n",
    "    mov rdx, 1\n",
    "    syscall\n",
    "\n",
    "    call exit\n",
    "\n",
    "print:\n",
    "    xor rbx, rbx\n",
    "\n",
    "    mov rcx, 10\n",
    "    .loop:\n",
    "        xor rdx, rdx\n",
    "        div rcx\n",
    "        push rdx\n",
    "        inc rbx\n",
    "        test rax, rax\n",
    "        jnz .loop\n",
    "\n",
    "    .print_loop:\n",
    "        pop rax\n",
    "        add rax, '0'\n",
    "        mov [place], al\n",
    "\n",
    "        push rbx\n",
    "        mov rax, 1\n",
    "        mov rdi, 1\n",
    "        mov rsi, place\n",
    "        mov rdx, 1\n",
    "        syscall\n",
    "        pop rbx\n",
    "\n",
    "        dec rbx\n",
    "        jnz .print_loop\n",
    "\n",
    "        ret\n",
    "\n",
    "exit:\n",
    "    mov rax, 60\n",
    "    xor rdi, rdi\n",
    "    syscall\n"
   ]
  },
  {
   "attachments": {
    "image-2.png": {
     "image/png": "[encoded data removed]"
    }
   },
   "cell_type": "markdown",
   "metadata": {},
   "source": [
    "![image-2.png](attachment:image-2.png)"
   ]
  },
  {
   "cell_type": "markdown",
   "metadata": {},
   "source": [
    "format ELF64\n",
    "public _start\n",
    "public exit\n",
    "\n",
    "include '/home/egorp/cpp/System-programming/help.asm'\n",
    "\n",
    "section '.bss' writable\n",
    "    place db 1\n",
    "    a dq 0\n",
    "    b dq 0\n",
    "    c dq 0\n",
    "\n",
    ";(((b/c)*b)+b)\n",
    "section '.text' executable\n",
    "_start:\n",
    "    add rsp, 16\n",
    "    xor rsi, rsi\n",
    "    xor rax, rax\n",
    "\n",
    "    pop rsi\n",
    "    call atoi\n",
    "    mov [a], rax\n",
    "\n",
    "    xor rsi, rsi\n",
    "    pop rsi\n",
    "    call atoi\n",
    "    mov [b], rax\n",
    "\n",
    "    xor rsi, rsi\n",
    "    pop rsi\n",
    "    call atoi\n",
    "    mov [c], rax\n",
    "\n",
    "    mov rax, [b]    ; al = b\n",
    "\n",
    "    div [c]        ; al = b/c\n",
    "\n",
    "    ; (b/c)*b\n",
    "    mul [b]         ; ax = (b/c)*b\n",
    "\n",
    "    ; ((b/c)*b)+b\n",
    "    add rax, [b]\n",
    "\n",
    "    call print\n",
    "    call new_line\n",
    "\n",
    "    call exit\n",
    "\n",
    "atoi:\n",
    "    push rbx\n",
    "    push rcx\n",
    "    push rdx\n",
    "    push rsi\n",
    "\n",
    "    xor rax, rax        \n",
    "    xor rcx, rcx        \n",
    "    xor rdx, rdx     \n",
    "\n",
    "    .loop:\n",
    "        mov byte bl, [rsi + rdx]   \n",
    "        test rbx, rbx           \n",
    "        jz .exit\n",
    "\n",
    "        sub rbx, '0'            \n",
    "\n",
    "        imul rax, 10\n",
    "        add rax, rbx\n",
    "\n",
    "        inc rdi\n",
    "        inc rdx\n",
    "        jmp .loop\n",
    "\n",
    "    .exit:\n",
    "        pop rsi\n",
    "        pop rdx\n",
    "        pop rcx\n",
    "        pop rbx\n",
    "        ret\n",
    "\n",
    "print:\n",
    "    push rax            \n",
    "    push rbx            \n",
    "    push rcx            \n",
    "    push rdx            \n",
    "    push rsi            \n",
    "    push rdi            \n",
    "\n",
    "    xor rbx, rbx        \n",
    "\n",
    "    mov rcx, 10\n",
    "    .loop:\n",
    "        xor rdx, rdx\n",
    "        div rcx\n",
    "        push rdx\n",
    "        inc rbx\n",
    "        test rax, rax\n",
    "        jnz .loop\n",
    "\n",
    "    .print_loop:\n",
    "        pop rax\n",
    "        add rax, '0'\n",
    "        mov [place], al\n",
    "\n",
    "        push rbx        \n",
    "        mov rax, 1      \n",
    "        mov rdi, 1      \n",
    "        mov rsi, place  \n",
    "        mov rdx, 1      \n",
    "        syscall\n",
    "        pop rbx         \n",
    "\n",
    "        dec rbx\n",
    "        jnz .print_loop\n",
    "\n",
    "    pop rdi             \n",
    "    pop rsi             \n",
    "    pop rdx             \n",
    "    pop rcx             \n",
    "    pop rbx             \n",
    "    pop rax             \n",
    "    ret\n"
   ]
  },
  {
   "attachments": {
    "image-2.png": {
     "image/png": "[encoded data removed]"
    }
   },
   "cell_type": "markdown",
   "metadata": {},
   "source": [
    "![image-2.png](attachment:image-2.png)"
   ]
  },
  {
   "cell_type": "code",
   "execution_count": null,
   "metadata": {
    "vscode": {
     "languageId": "plaintext"
    }
   },
   "outputs": [],
   "source": [
    "#include <stdio.h>\n",
    "#include <stdlib.h>\n",
    "\n",
    "//(((b/c)*b)+b)\n",
    "int main(int argc, char *argv[]) {\n",
    "    int a = atoi(argv[1]);\n",
    "    int b = atoi(argv[2]);\n",
    "    int c = atoi(argv[3]);\n",
    "\n",
    "    int res = ((b / c) * b) + b;\n",
    "\n",
    "    printf(\"%d\\n\", res);\n",
    "    return 0;\n",
    "}\n"
   ]
  },
  {
   "attachments": {
    "image-2.png": {
     "image/png": "[encoded data removed]"
    }
   },
   "cell_type": "markdown",
   "metadata": {},
   "source": [
    "![image-2.png](attachment:image-2.png)"
   ]
  }
 ],
 "metadata": {
  "language_info": {
   "name": "python"
  }
 },
 "nbformat": 4,
 "nbformat_minor": 2
}
